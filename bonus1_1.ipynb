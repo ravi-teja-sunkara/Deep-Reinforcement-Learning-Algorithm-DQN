{
 "cells": [
  {
   "cell_type": "code",
   "execution_count": null,
   "metadata": {},
   "outputs": [],
   "source": [
    "import gym\n",
    "\n",
    "from stable_baselines.common.vec_env import DummyVecEnv\n",
    "from stable_baselines.deepq.policies import MlpPolicy\n",
    "from stable_baselines import DQN\n",
    "\n",
    "env = gym.make('CartPole-v1') #importing CartPole environment from the GYM library\n",
    "env = DummyVecEnv([lambda: env])\n",
    "\n",
    "model = DQN(MlpPolicy, env, verbose=1) #implementing DQN policy\n",
    "model.learn(total_timesteps=25000) # number of time steps\n",
    "model.save(\"deepq_cartpole\")\n",
    "\n",
    "model = DQN.load(\"deepq_cartpole\")\n",
    "\n",
    "obs = env.reset()\n",
    "while True:\n",
    "    action, _states = model.predict(obs) #predicting using the neural network ( #predicting the Q value)\n",
    "    obs, rewards, dones, info = env.step(action) #taking Action based on the Q values\n",
    "    env.render() "
   ]
  }
 ],
 "metadata": {
  "kernelspec": {
   "display_name": "Python 3",
   "language": "python",
   "name": "python3"
  },
  "language_info": {
   "codemirror_mode": {
    "name": "ipython",
    "version": 3
   },
   "file_extension": ".py",
   "mimetype": "text/x-python",
   "name": "python",
   "nbconvert_exporter": "python",
   "pygments_lexer": "ipython3",
   "version": "3.6.5"
  }
 },
 "nbformat": 4,
 "nbformat_minor": 2
}
