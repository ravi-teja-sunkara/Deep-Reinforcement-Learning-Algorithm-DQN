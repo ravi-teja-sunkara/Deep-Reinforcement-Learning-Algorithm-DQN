{
 "cells": [
  {
   "cell_type": "code",
   "execution_count": null,
   "metadata": {},
   "outputs": [],
   "source": [
    "from stable_baselines.common.atari_wrappers import make_atari\n",
    "from stable_baselines.deepq.policies import MlpPolicy, CnnPolicy\n",
    "from stable_baselines import DQN\n",
    "\n",
    "env = make_atari('BreakoutNoFrameskip-v4') #importing BreakoutFrameskip environment from the GYM library\n",
    "\n",
    "model = DQN(CnnPolicy, env, verbose=1)  #using CnnPolicy for DQN\n",
    "model.learn(total_timesteps=25000) #number of episodes\n",
    "model.save(\"deepq_breakout\")\n",
    "\n",
    "del model # remove to demonstrate saving and loading\n",
    "\n",
    "DQN.load(\"deepq_breakout\")\n",
    "\n",
    "obs = env.reset()\n",
    "while True:\n",
    "    action, _states = model.predict(obs) #predicting the Q value\n",
    "    obs, rewards, dones, info = env.step(action) #taking Action\n",
    "    env.render()"
   ]
  }
 ],
 "metadata": {
  "kernelspec": {
   "display_name": "Python 3",
   "language": "python",
   "name": "python3"
  },
  "language_info": {
   "codemirror_mode": {
    "name": "ipython",
    "version": 3
   },
   "file_extension": ".py",
   "mimetype": "text/x-python",
   "name": "python",
   "nbconvert_exporter": "python",
   "pygments_lexer": "ipython3",
   "version": "3.6.5"
  }
 },
 "nbformat": 4,
 "nbformat_minor": 2
}
